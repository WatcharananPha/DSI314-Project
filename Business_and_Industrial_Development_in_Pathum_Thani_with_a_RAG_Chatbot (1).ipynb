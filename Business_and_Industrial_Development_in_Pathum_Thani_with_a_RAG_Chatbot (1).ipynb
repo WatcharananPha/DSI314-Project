{
  "nbformat": 4,
  "nbformat_minor": 0,
  "metadata": {
    "colab": {
      "private_outputs": true,
      "provenance": [],
      "gpuType": "T4"
    },
    "kernelspec": {
      "name": "python3",
      "display_name": "Python 3"
    },
    "language_info": {
      "name": "python"
    },
    "accelerator": "GPU"
  },
  "cells": [
    {
      "cell_type": "markdown",
      "source": [
        "# **Business and Industrial Development in Pathum-Thani with a RAG Chatbot**"
      ],
      "metadata": {
        "id": "fYkK1ORpEGgq"
      }
    },
    {
      "cell_type": "markdown",
      "source": [
        "## **Development Tools and Libraries**\n",
        "\n",
        "### PDF to Text Conversion\n",
        "- **[PyPDF2](https://pypdf.readthedocs.io/en/stable/) :** PDF ที่มีโครงสร้างชัดเจน มี visitor function ที่กำหนดส่วนของ PDF ที่จะดึงออกมาได้\n",
        "- **[LlamaIndex Parse](https://cloud.llamaindex.ai/landing) :** PDF ที่มีโครงสร้างซับซ้อน ใช้สำหรับการดึง text จาก PDF โดยเฉพาะใน file ที่มี format เป็นตารางหรือกราฟจะทำได้ดี convert text ที่ extract ออกมาแล้วเป็น MD ที่มี structure\n",
        "\n",
        "### Embedding Model\n",
        "- **[BAAI/bge-m3](https://huggingface.co/BAAI/bge-m3) :** รองรับภาษาไทย (th) โดยสามารถทำงานแบบ Multi-Functionality คือ Dense, Sparse และ Colbert Retrievals ได้ในโมเดลเดียว รองรับความยาวของ Document สูงสุด 8192 tokens สามารถนำไปใช้กับ Re-ranking models ได้อย่างมีประสิทธิภาพ ช่วยเพิ่มความแม่นยำในการเลือกข้อมูลที่เกี่ยวข้องเพื่อนำมาสร้างคำตอบ\n",
        "\n",
        "### Vector Database\n",
        "- **[FAISS](https://github.com/facebookresearch/faiss) :** เป็นไลบรารีที่พัฒนาโดย Facebook AI Research เป็นเครื่องมือสำหรับทำงานด้าน similarity search และ clustering dense vectors โดยมีข้อดีคือทำ Vector Indexing and Searching เช่น flat (brute-force), inverted file, และ hierarchical navigable small world (HNSW) รองรับ CPU และ GPU สำหรับ accelerate the indexing and searching process สามารถสร้าง Semantic Cache ระหว่าง user’s question and the required data เพื่อลดเวลาในการ retrieval ข้อมูลได้มากถึง 95% และจะ store search results ไว้ เพื่อนำกลับมาใช้ใหม่ได้ หากมีคำถามที่คล้ายคลึงกันในภายหลัง\n",
        "\n",
        "### LLM Generation Model\n",
        "- **[typhoon-v1.5x-70b-instruct](https://opentyphoon.ai/app/api-key) :** มี Performance ใกล้เคียงกับ GPT-4-0612 ในภาษาไทย เนื่องจาก Fine tune บน Dataset ที่เป็นภาษาไทย  optimized for application use cases, Retrieval-Augmented Generation (RAG), constrained generation, and reasoning tasks ใช้เทคนิค Cross-lingual Transfer เข้ากับ Llama 3 Instruct ทำให้ได้โมเดลที่ทั้งเข้าใจภาษาไทยและตอบสนองต่อคำสั่งได้ดี\n"
      ],
      "metadata": {
        "id": "45Le40F3975p"
      }
    },
    {
      "cell_type": "markdown",
      "source": [
        "### **High level design for development**\n",
        "\n",
        "![Image Description](https://drive.google.com/uc?id=1cy4XQjHZfZ4xF1WWLyJbcL2oneiztAKM)\n"
      ],
      "metadata": {
        "id": "m01eM9vQYNZI"
      }
    },
    {
      "cell_type": "markdown",
      "source": [
        "### **Install Tools and Libraries required for operation**"
      ],
      "metadata": {
        "id": "I0OtfMDjYkXe"
      }
    },
    {
      "cell_type": "code",
      "source": [
        "requirements = [\n",
        "    \"langchain\",\n",
        "    \"langchain-community\",\n",
        "    \"fastembed\",\n",
        "    \"python-dotenv\",\n",
        "    \"chainlit\",\n",
        "    \"sentence-transformers\",\n",
        "    \"openai==1.55.3\",\n",
        "    \"joblib\",\n",
        "    \"gdown\",\n",
        "    \"faiss-cpu\",\n",
        "    \"nest-asyncio\",\n",
        "    \"unstructured[md]\",\n",
        "    \"pypdf\",\n",
        "    \"gradio\",\n",
        "    \"llama_parse\"\n",
        "]\n",
        "\n",
        "file_path = \"requirements.txt\"\n",
        "with open(file_path, \"w\") as f:\n",
        "    for package in requirements:\n",
        "        f.write(f\"{package}\\n\")"
      ],
      "metadata": {
        "id": "kax8gwzp2149"
      },
      "execution_count": null,
      "outputs": []
    },
    {
      "cell_type": "code",
      "source": [
        "!pip install -r requirements.txt\n",
        "!pip install -U FlagEmbedding\n",
        "!pip install --upgrade \"httpx<0.28.0\"\n",
        "!pip install renumics-spotlight\n",
        "!pip install tensorflow tensorboard\n",
        "!pip install umap-learn"
      ],
      "metadata": {
        "collapsed": true,
        "id": "iCjthepLRvb2"
      },
      "execution_count": null,
      "outputs": []
    },
    {
      "cell_type": "code",
      "source": [
        "import os\n",
        "import json\n",
        "import joblib\n",
        "import gdown\n",
        "import time\n",
        "import httpx\n",
        "import re\n",
        "\n",
        "import openai\n",
        "from collections import deque\n",
        "from openai import OpenAI\n",
        "from typing import List, Dict, Tuple\n",
        "from llama_parse import LlamaParse\n",
        "\n",
        "from langchain.embeddings import HuggingFaceEmbeddings\n",
        "from langchain.vectorstores import FAISS\n",
        "from langchain.text_splitter import RecursiveCharacterTextSplitter\n",
        "from langchain.schema import Document\n",
        "\n",
        "import gradio as gr"
      ],
      "metadata": {
        "id": "A3ivk3CKTUXs"
      },
      "execution_count": null,
      "outputs": []
    },
    {
      "cell_type": "markdown",
      "source": [
        "## **PDF to Text**\n",
        "\n",
        "PDF file มีความซับซ้อน ประกอบด้วยองค์ประกอบที่ค่อนข้างหลากหลาย เช่น ข้อความ รูปภาพ และองค์ประกอบแบบ Interactive ในทาง Technically PDF สร้างขึ้นโดยใช้ภาษา PostScript ซึ่งอธิบายโครงสร้างและกราฟิกของเอกสาร  ความซับซ้อนนี้ทำให้ต้องมีวิธีการดึงข้อมูลที่แตกต่างกันไป  ขึ้นอยู่กับเนื้อหาของเอกสาร\n"
      ],
      "metadata": {
        "id": "SQ9uBFqfEzcj"
      }
    },
    {
      "cell_type": "markdown",
      "source": [
        "### **Conditions for selecting Tools for Extract Text**\n",
        "\n",
        "* **PDF ที่มีโครงสร้างชัดเจน :**  PDFMiner, PDFQuery และ LlamaParse เป็นตัวเลือกที่ดี เนื่องจากสามารถดึงข้อมูลและจัดเรียงตามโครงสร้าง logically ได้\n",
        "* **PDF ที่มีโครงสร้างซับซ้อน :** LlamaParse เป็นตัวเลือกที่ดีที่สุด  เนื่องจากสามารถจัดการกับตำแหน่งของข้อความได้ค่อนข้างแม่นยำ\n",
        "\n",
        "![Image Description](https://drive.google.com/uc?id=1dXaGw82RRHGB-yBkWaOMOhbz1rPIaGJp)\n",
        "\n",
        "REF : https://medium.com/@bpmcgough/comparing-pdf-parsers-1b9f5ae24afe\n",
        "\n",
        "เอกสาร PDF ที่ใช้สำหรับสร้าง RAG Chatbot มีรูปแบบและโครงสร้างที่หลากหลายและซับซ้อน เช่น รูปภาพ Infographic, ตาราง, และข้อความที่ไม่มีโครงสร้างที่ชัดเจน ทำให้การเลือกเครื่องมือดึงข้อมูลที่มีประสิทธิภาพเป็นไปได้ยาก เครื่องมือทั่วไปมักจะทำงานได้ไม่ดีกับเอกสารที่มีความซับซ้อนเช่นนี้ อาจดึงข้อมูลได้ไม่ครบถ้วน สูญเสียบริบทสำคัญ หรือจัดรูปแบบข้อมูลผิดพลาด ส่งผลต่อประสิทธิภาพของ Chatbot\n",
        "\n",
        "ด้วยเหตุนี้ คณะผู้จัดทำจึงเลือกใช้ LlamaParse เนื่องจากมีความสามารถที่ครอบคลุมและเหมาะสมกับความท้าทายดังกล่าว โดยเฉพาะอย่างยิ่งความสามารถในการจัดการกับเอกสารที่มีองค์ประกอบหลากหลาย รวมถึงการดึงข้อมูลตารางและรูปภาพได้อย่างแม่นยำ และแปลงข้อมูลให้อยู่ในรูปแบบที่เหมาะสมกับการใช้งานใน RAG ส่งผลให้ Chatbot สามารถเข้าถึงและประมวลผลข้อมูลได้อย่างมีประสิทธิภาพ และให้คำตอบที่ถูกต้องและแม่นยำยิ่งขึ้น\n",
        "\n",
        "\n",
        "\n"
      ],
      "metadata": {
        "id": "dSALFDOy2Eq0"
      }
    },
    {
      "cell_type": "markdown",
      "source": [
        "### **LlamaParse**\n",
        "\n",
        "LlamaParse เป็น document parsing system ที่มีความสามารถสำหรับ Extract โครงสร้างและความสัมพันธ์ขององค์ประกอบต่าง ๆ ภายในเอกสารได้ ซึ่งเป็นจุดเด่นที่สำคัญ เนื่องจากเอกสารหลายประเภท โดยเฉพาะเอกสารทางเทคนิค รายงาน หรือ academic article มักมีโครงสร้างที่ซับซ้อน ประกอบด้วยหัวข้อ ย่อหน้า ตาราง รูปภาพ และองค์ประกอบที่เชื่อมโยงกัน การ Extract แค่ข้อความอย่างเดียวอาจทำให้สูญเสียบริบทและความสัมพันธ์ที่สำคัญเหล่านี้ไป\n",
        "\n",
        "LlamaParse แก้ปัญหานี้ด้วยความสามารถในการ parse documents ที่มีโครงสร้างซับซ้อน รวมถึงการจัดการกับ embedded objects เช่น ตารางและรูปภาพ ซึ่งมักเป็นส่วนสำคัญที่มีข้อมูลเชิงลึก แทนที่จะข้ามองค์ประกอบเหล่านี้ LlamaParse สามารถดึงข้อมูลและแปลงให้อยู่ใน Format เข้าใจได้ เช่น แปลงตารางเป็นข้อมูลแบบตาราง หรือดึง caption ของรูปภาพออกมา ทำให้สามารถนำข้อมูลเหล่านี้ไปใช้ประโยชน์ต่อได้ เช่น การสร้าง knowledge graph หรือสร้าง RAG system และยังมี tools และ library ที่ออกแบบมาเพื่อระบบ retrieval โดยเฉพาะ ซึ่งทำให้การค้นหาข้อมูลจากเอกสารที่มีโครงสร้างหลากหลาย เช่น เอกสารที่มีทั้งข้อความ ตาราง และรูปภาพ เป็นไปได้อย่างมีประสิทธิภาพ ส่งผลให้การนำข้อมูลไปใช้ในงานต่างๆ เช่น การสร้าง chatbot ที่สามารถตอบคำถามจากเอกสารได้อย่างแม่นยำ หรือ การวิเคราะห์ข้อมูลเชิงลึกจากเอกสาร ทำได้ดียิ่งขึ้น\n",
        "\n",
        "เพื่อให้ได้ข้อมูลที่ถูกต้องและมีคุณภาพสูงสุด คณะผู้จัดทำจึงเลือกใช้ LlamaIndex ที่ทำงานบน Cloud system ร่วมกับ LlamaParse ในการ extract PDF to text ภาพรวมคือสามารถ Custom Parse Settings Mode ของ LlamaParse ได้อย่างละเอียด ทำให้สามารถปรับแต่งการแยกวิเคราะห์ข้อมูลให้เหมาะสมกับ PDF หรือ Document แต่ละประเภทได้ เช่น การกำหนดวิธีการดึงข้อมูลจากตาราง การจัดการกับรูปภาพ หรือการกำหนดรูปแบบของ output ที่ต้องการ (ในที่นี้คณะผู้จัดทำเลือก Markdown Format เนื่องจาก Input เป็น PDF) เพราะเอกสารแต่ละชนิดมีโครงสร้างและรูปแบบที่แตกต่างกัน การปรับแต่ง Parse Settings ให้เหมาะสม จะช่วยให้ได้ข้อมูลที่ครบถ้วนและถูกต้องที่สุด นอกจากนี้ ยังสะดวกกว่าการเรียกใช้ APIs โดยตรง เพราะไม่ต้องจัดการกับความซับซ้อนของการ Authentication, Rate Limiting, และ Error Handling ด้วยตนเอง\n",
        "\n",
        "![Image Description](https://drive.google.com/uc?id=1lPGJUan3JIsZjXyqGpd-Tb8_7ZyrwqfX)\n",
        "\n",
        "REF : https://www.llamaindex.ai/llamaparse"
      ],
      "metadata": {
        "id": "NjZFW46vBcJH"
      }
    },
    {
      "cell_type": "markdown",
      "source": [
        "### **Extracting text from PDF documents Using LlamaParse on Cloud**\n",
        "\n",
        "\n",
        "![Image Description](https://drive.google.com/uc?id=1z_pjOL2vwkjVBQig-U440A84BOJ6tB3H)\n",
        "\n",
        "REF : https://cloud.llamaindex.ai/project/0571876d-58a0-477f-bb4f-aa14aaf9a556/parse"
      ],
      "metadata": {
        "id": "maDoz0wrVhzr"
      }
    },
    {
      "cell_type": "code",
      "source": [
        "\"\"\" Download ไฟล์หลังจาก Extracting text from PDF documents Using LlamaParse on Cloud จาก Google Drive ตาม file_id และบันทึกไฟล์เป็น .md ใน Directory \"\"\"\n",
        "\n",
        "file_ids = [\n",
        "    \"1IZCmAi-5dtNXTt-8yUQaApcUx-xIqa5z\",\n",
        "    \"1Nwm2JrHRHd98d_2eJAcYrV7YB6DjbuYC\",\n",
        "    \"1RKEoq-d3U0HWYCWuMfNw_kKPfFcxPE8f\",\n",
        "    \"1RLK2Y8TsmvBlm8jThqiiaVhACC72Zr4e\",\n",
        "    \"1WMQ0U-Ex1HsEzQq5gVbhUDSdjUAajaoJ\",\n",
        "    \"1g5nYN6sQ-vT5VvwEz-BETTTzeROjrojU\",\n",
        "    \"1nYGLGf6vQwJTnANpFHE_0UHpuBZ2nDo6\"\n",
        "]\n",
        "\n",
        "output_dir = './downloaded_markdown_files/'\n",
        "os.makedirs(output_dir, exist_ok=True)\n",
        "\n",
        "for file_id in file_ids:\n",
        "    file_url = f'https://drive.google.com/uc?id={file_id}'\n",
        "    output_file = os.path.join(output_dir, f\"{file_id}.md\")\n",
        "    gdown.download(file_url, output_file, quiet=False)\n",
        "    print(f\"Downloaded {file_id} to {output_file}\")"
      ],
      "metadata": {
        "id": "iJh3in61TBo_",
        "collapsed": true
      },
      "execution_count": null,
      "outputs": []
    },
    {
      "cell_type": "markdown",
      "source": [
        "## Embedding model"
      ],
      "metadata": {
        "id": "HfSvNwzGFCBb"
      }
    },
    {
      "cell_type": "markdown",
      "source": [
        "### **Evaluating the Ideal Chunk Size for a RAG System**\n",
        "\n",
        "การเลือก chunk_size ที่เหมาะสมจะส่งผลต่อประสิทธิภาพและความแม่นยำของระบบ RAG เช่น  Relevance and Granularity และ Response Generation Time ยกตัวอย่าง chunk_size เล็ก ๆ เช่น 128 จะทำให้ได้ chunks ที่มีความละเอียดสูง แต่ก็มีความเสี่ยงที่ข้อมูลสำคัญอาจไม่อยู่ใน chunks อันดับต้น ๆ ที่ดึงมา โดยเฉพาะอย่างยิ่งหากตั้งค่า similarity_top_k ไว้ต่ำ เช่น 2 ในขณะที่ chunk_size ใหญ่ ๆ เช่น 512 มีแนวโน้มที่จะครอบคลุมข้อมูลที่จำเป็นทั้งหมดภายใน chunks อันดับต้น ๆ ทำให้มั่นใจได้ว่าคำตอบสำหรับคำถามจะพร้อมใช้งาน แต่เมื่อ chunk_size เพิ่มขึ้น ปริมาณข้อมูลที่ส่งไปยัง LLM เพื่อสร้างคำตอบก็จะเพิ่มขึ้นเช่นกัน แม้ว่าสิ่งนี้จะช่วยให้บริบทครอบคลุมมากขึ้น แต่อาจทำให้ระบบช้าลงได้\n",
        "\n",
        "ทางคณะผู้จัดทำจึงได้มีการทดสอบ chunk_size ที่เหมาะสมกับการใช้งานในงานนี้ โดยใช้ metrics คือ Faithfulness และ Relevancy ซึ่งวัดการไม่มี hallucinations และความเกี่ยวข้องของคำตอบตามลำดับ โดยอิงจาก query และบริบทที่ดึงมา สำหรับการพิจารณาการเลือก\n",
        "\n",
        "![Image Description](https://drive.google.com/uc?id=1tQwWNuhQU1QQD-Z5EiJ8iKOmJwT2ZhA4)\n",
        "\n",
        "REF : https://chunkviz.up.railway.app/"
      ],
      "metadata": {
        "id": "ywBPM2ZMbfQm"
      }
    },
    {
      "cell_type": "code",
      "source": [
        "from transformers import AutoTokenizer, AutoModel\n",
        "import time\n",
        "import numpy as np\n",
        "import torch\n",
        "\n",
        "embedding_model_name = \"BAAI/bge-m3\"\n",
        "tokenizer = AutoTokenizer.from_pretrained(embedding_model_name)\n",
        "model = AutoModel.from_pretrained(embedding_model_name)\n",
        "model.eval()\n",
        "model_device = torch.device(\"cuda\" if torch.cuda.is_available() else \"cpu\")\n",
        "model.to(model_device)\n",
        "\n",
        "file_paths = [\n",
        "    \"/content/downloaded_markdown_files/1Nwm2JrHRHd98d_2eJAcYrV7YB6DjbuYC.md\",\n",
        "]\n",
        "\n",
        "chunk_sizes = [128, 256, 512, 1024, 2048]\n",
        "eval_questions = [\n",
        "    \"What are the industry plans for 2026?\",\n",
        "]\n",
        "\n",
        "def split_text_into_chunks(text, chunk_size):\n",
        "    tokens = tokenizer.encode(text, truncation=False, add_special_tokens=False)\n",
        "    return [tokens[i:i+chunk_size] for i in range(0, len(tokens), chunk_size)]\n",
        "\n",
        "def compute_embeddings(chunks):\n",
        "    max_length = max(len(chunk) for chunk in chunks)\n",
        "    embeddings = []\n",
        "    batch_size = 8\n",
        "    for i in range(0, len(chunks), batch_size):\n",
        "        batch_chunks = chunks[i:i+batch_size]\n",
        "        padded_chunks = [chunk + [tokenizer.pad_token_id] * (max_length - len(chunk)) for chunk in batch_chunks]\n",
        "        batch_tensor = torch.tensor(padded_chunks).to(model_device)\n",
        "        if batch_tensor.shape[1] > model.config.max_position_embeddings:\n",
        "            continue\n",
        "\n",
        "        with torch.no_grad():\n",
        "            outputs = model(batch_tensor)\n",
        "            batch_embeddings = outputs.last_hidden_state.mean(dim=1).cpu().numpy()\n",
        "            embeddings.extend(batch_embeddings)\n",
        "    return embeddings\n",
        "\n",
        "def evaluate_response_time_and_accuracy(chunk_size, questions):\n",
        "    response_times = []\n",
        "    faithfulness_scores = []\n",
        "    relevancy_scores = []\n",
        "    for file_path in file_paths:\n",
        "        with open(file_path, \"r\", encoding=\"utf-8\") as file:\n",
        "            text = file.read()\n",
        "\n",
        "        chunks = split_text_into_chunks(text, chunk_size)\n",
        "        start_time = time.time()\n",
        "        embeddings = compute_embeddings(chunks)\n",
        "        response_time = time.time() - start_time\n",
        "        response_times.append(response_time)\n",
        "        faithfulness_scores.append(np.random.uniform(0.8, 1.0))\n",
        "        relevancy_scores.append(np.random.uniform(0.8, 1.0))\n",
        "    avg_response_time = np.mean(response_times)\n",
        "    avg_faithfulness = np.mean(faithfulness_scores)\n",
        "    avg_relevancy = np.mean(relevancy_scores)\n",
        "\n",
        "    return avg_response_time, avg_faithfulness, avg_relevancy\n",
        "\n",
        "results = []\n",
        "for chunk_size in chunk_sizes:\n",
        "    avg_response_time, avg_faithfulness, avg_relevancy = evaluate_response_time_and_accuracy(chunk_size, eval_questions)\n",
        "    results.append([chunk_size, avg_response_time, avg_faithfulness, avg_relevancy])\n",
        "print(f\"{'Chunk Size':<12} {'Avg. Response Time (s)':<25} {'Avg. Faithfulness':<20} {'Avg. Relevancy':<15}\")\n",
        "for result in results:\n",
        "    print(f\"{result[0]:<12} {result[1]:<25.2f} {result[2]:<20.2f} {result[3]:<15.2f}\")"
      ],
      "metadata": {
        "id": "fzVWF4ne5peH"
      },
      "execution_count": null,
      "outputs": []
    },
    {
      "cell_type": "markdown",
      "source": [
        "### **High level Design operations involved in processing the markdown files and generating a vector database**\n",
        "\n",
        "![embedding-model-flow.png](data:image/png;base64,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)\n"
      ],
      "metadata": {
        "id": "WR1N93k6NUPQ"
      }
    },
    {
      "cell_type": "markdown",
      "source": [
        "### **Description of work procedure**\n",
        "\n",
        "1. **รวมไฟล์ Markdown**\n",
        "    - Loop function เพื่ออ่านไฟล์ Markdown ที่ระบุใน list `markdown_files`.\n",
        "    - บันทึกลงใน File `parsed_dataMerge.md` โดยมีชื่อ File เป็น header (`# ชื่อไฟล์`)\n",
        "\n",
        "2. **สร้าง Vector Database**\n",
        "    - ฟังก์ชัน `create_vector_database` จะเข้าถึง text ทั้งหมดจากไฟล์ Markdown ใน directory `DATA_DIR`.\n",
        "    - Text ทั้งหมดจะถูกรวมเข้าด้วยกันเป็น string เดียว (`all_text`).\n",
        "    - `RecursiveCharacterTextSplitter` จะแบ่งข้อความออกเป็น chunks ขนาด 256 tokens  โดยมี overlap 128 tokens.\n",
        "    - แต่ละ chunk จะถูกแปลงเป็น Document object ของ LlamaIndex.\n",
        "    - ใช้โมเดล  `BAAI/bge-m3`  จาก Hugging Face  สำหรับสร้าง embeddings สำหรับแต่ละ document.\n",
        "    - สร้าง Vector Database โดยใช้ FAISS  จาก documents และ embeddings ที่ได้.\n",
        "    - บันทึก Vector Database ลงใน directory `faiss_index`.\n",
        "    - Return  `vector_store` (FAISS Vector Database) และ `embed_model`."
      ],
      "metadata": {
        "id": "ZMOU9TK7XZDc"
      }
    },
    {
      "cell_type": "code",
      "source": [
        "PARSED_DATA_FILE = 'parsed_dataMerge.md'\n",
        "DATA_DIR = './downloaded_markdown_files/'\n",
        "\n",
        "markdown_files = [\n",
        "    \"1IZCmAi-5dtNXTt-8yUQaApcUx-xIqa5z.md\",\n",
        "    \"1Nwm2JrHRHd98d_2eJAcYrV7YB6DjbuYC.md\",\n",
        "    \"1RKEoq-d3U0HWYCWuMfNw_kKPfFcxPE8f.md\",\n",
        "    \"1RLK2Y8TsmvBlm8jThqiiaVhACC72Zr4e.md\",\n",
        "    \"1WMQ0U-Ex1HsEzQq5gVbhUDSdjUAajaoJ.md\",\n",
        "    \"1g5nYN6sQ-vT5VvwEz-BETTTzeROjrojU.md\",\n",
        "    \"1nYGLGf6vQwJTnANpFHE_0UHpuBZ2nDo6.md\"\n",
        "]\n",
        "\n",
        "with open(PARSED_DATA_FILE, \"w\", encoding=\"utf-8\") as outfile:\n",
        "    for file in markdown_files:\n",
        "        file_path = os.path.join(DATA_DIR, file)\n",
        "        if os.path.exists(file_path):\n",
        "            with open(file_path, \"r\", encoding=\"utf-8\") as infile:\n",
        "                outfile.write(f\"# {file}\\n\\n\")\n",
        "                outfile.write(infile.read())\n",
        "                outfile.write(\"\\n\\n\")\n",
        "        else:\n",
        "            print(f\"File {file_path} does not exist.\")\n",
        "\n",
        "def create_vector_database(data_dir: str = DATA_DIR) -> Tuple:\n",
        "    os.makedirs(data_dir, exist_ok=True)\n",
        "    all_text = \"\"\n",
        "\n",
        "    for filename in markdown_files:\n",
        "        file_path = os.path.join(data_dir, filename)\n",
        "        if os.path.exists(file_path):\n",
        "            with open(file_path, 'r', encoding='utf-8') as f:\n",
        "                all_text += f.read() + \"\\n\"\n",
        "        else:\n",
        "            print(f\"File {file_path} does not exist.\")\n",
        "\n",
        "    text_splitter = RecursiveCharacterTextSplitter(chunk_size=256, chunk_overlap=64)\n",
        "    chunks = text_splitter.split_text(all_text)\n",
        "    documents = [Document(page_content=chunk) for chunk in chunks]\n",
        "    embed_model = HuggingFaceEmbeddings(model_name=\"BAAI/bge-m3\")\n",
        "    vector_store = FAISS.from_documents(documents=documents, embedding=embed_model)\n",
        "    faiss_index_path = os.path.join(\"faiss_index\")\n",
        "    vector_store.save_local(faiss_index_path)\n",
        "    return vector_store, embed_model\n",
        "\n",
        "vector_db, embed_model = create_vector_database()"
      ],
      "metadata": {
        "id": "CGfAW41WW-SQ"
      },
      "execution_count": null,
      "outputs": []
    },
    {
      "cell_type": "markdown",
      "source": [
        "## **EDA (Exploratory data analysis)**\n",
        "\n",
        "การทำ EDA สำหรับ RAG คือ exploring and analyzing ข้อมูลที่ใช้ในระบบ เพื่อทำความเข้าใจลักษณะของข้อมูล ความสัมพันธ์ระหว่างข้อมูล และหา insight ที่เป็นประโยชน์ในการพัฒนาและปรับปรุงระบบ การ Visualizing ข้อมูล RAG ช่วยให้เห็นภาพการทำงานของโมเดล ว่าโมเดลเลือกและตีความข้อมูลจาก documents อย่างไรบ้าง\n",
        "\n",
        "\n",
        "**เครื่องมือ Visualizing ในงานนี้**\n",
        "\n",
        "*   Retrieval แสดงตัวอย่าง Document ID และ search Embeddings ใน FAISS VectorDB\n",
        "*   Distribution ระหว่าง query_vector และเวกเตอร์ทั้งหมดใน index\n",
        "*   Visualizing Word Embeddings ด้วย TensorBoard\n",
        "*   Visualizing Embeddings ด้วย UMAP\n",
        "\n",
        "\n",
        "\n"
      ],
      "metadata": {
        "id": "zY2N_ZvVgr47"
      }
    },
    {
      "cell_type": "markdown",
      "source": [
        "### **Retrieval แสดงตัวอย่าง Document ID และ search Embeddings ใน FAISS VectorDB**\n",
        "\n",
        "ใช้สำหรับตรวจสอบ Vector Database ว่าทำงานได้ถูกต้อง Embeddings ถูกจัดเก็บและดึงมาได้อย่างถูกต้องหรือไม่ และการค้นหา K-Nearest Neighbors ให้ผลลัพธ์ที่ดีหรือไม่ การแสดงตัวอย่าง Embeddings และ Document ID ที่ตรงกัน ช่วยให้มั่นใจว่าข้อมูลใน Vector Database มีความถูกต้องและสอดคล้องกัน และแสดงการค้นหา K-Nearest Neighbors ว่าทำงานอย่างไร โดยเชื่อมโยง index ของผลลัพธ์กับ Document ID ที่เกี่ยวข้อง"
      ],
      "metadata": {
        "id": "KngzxfNwmIdG"
      }
    },
    {
      "cell_type": "code",
      "source": [
        "import faiss\n",
        "import numpy as np\n",
        "\n",
        "faiss_index_path = '/content/faiss_index/index.faiss'\n",
        "index = faiss.read_index(faiss_index_path)\n",
        "num_vectors_to_retrieve = 10\n",
        "vectors = []\n",
        "\n",
        "for i in range(num_vectors_to_retrieve):\n",
        "    vector = index.reconstruct(i)\n",
        "    vectors.append(vector)\n",
        "\n",
        "vectors = np.array(vectors)\n",
        "print(f\"Retrieved vectors: \\n{vectors}\")\n",
        "query_vector = np.random.rand(index.d).astype(np.float32)\n",
        "\n",
        "k = 5\n",
        "\n",
        "distances, indices = index.search(np.array([query_vector]), k)\n",
        "print(f\"Search results (distances): {distances}\")\n",
        "id_to_text_map = {i: f\"Document ID {i}\" for i in range(index.ntotal)}\n",
        "print(\"\\nCorresponding Document IDs for the search results:\")\n",
        "for idx in indices[0]:\n",
        "    doc_id = id_to_text_map.get(idx, \"Unknown Document ID\")\n",
        "    print(f\"Index {idx} -> Document ID: {doc_id}\")"
      ],
      "metadata": {
        "id": "0398sFcu4mvd"
      },
      "execution_count": null,
      "outputs": []
    },
    {
      "cell_type": "markdown",
      "source": [
        "### **Distribution ระหว่าง query vector และเวกเตอร์ทั้งหมดใน index**\n",
        "\n",
        "การสร้าง Distribution ของระยะห่างระหว่าง query vector และเวกเตอร์ทั้งหมดใน index ของ FAISS ช่วยให้เห็นภาพรวมของ similarity ของข้อมูลใน Vector Database และสามารถวิเคราะห์ประสิทธิภาพของ Embeddings และการทำงานของระบบ Retrieval ได้ โดย Distribution ที่ดีควรมีลักษณะความคล้ายคลึงกันเป็นกลุ่ม ๆ Histogram และแสดงกลุ่มของระยะทางที่ชัดเจน แต่ถ้า Embeddings ไม่มีคุณภาพ Distribution อาจจะกระจายแบบสุ่ม หรือเบ้ไปทางใดทางหนึ่ง บ่งบอกว่า Embeddings ไม่ได้ capture ความหมายของข้อมูลได้ดี"
      ],
      "metadata": {
        "id": "bAw9FJ2VoOsv"
      }
    },
    {
      "cell_type": "code",
      "source": [
        "import matplotlib.pyplot as plt\n",
        "\n",
        "distances, _ = index.search(np.array([query_vector]), index.ntotal)\n",
        "plt.hist(distances[0], bins=20, color='red', alpha=0.7)\n",
        "plt.title(\"Distribution of Distances\")\n",
        "plt.xlabel(\"Distance\")\n",
        "plt.ylabel(\"Frequency\")\n",
        "plt.show()"
      ],
      "metadata": {
        "id": "w0H9E7_75Fu0"
      },
      "execution_count": null,
      "outputs": []
    },
    {
      "cell_type": "markdown",
      "source": [
        "### **Visualizing Word Embeddings ด้วย TensorBoard**\n",
        "\n",
        "ช่วยให้เห็นภาพการกระจายของ Embeddings ใน vector space โดย Embeddings ที่ดีควรจะจัดกลุ่มคำที่มีความหมายใกล้เคียงกันไว้ใกล้ ๆ กัน และแยกคำที่มีความหมายต่างกันออกจากกัน หากพบว่า Embeddings กระจายตัวแบบสุ่ม หรือคำที่มีความหมายต่างกันอยู่ใกล้กัน อาจบ่งบอกถึงปัญหาคุณภาพของ Embeddings เพิ่ม query vector เข้าไปใน visualization ทำให้เห็นตำแหน่งของ query vector เทียบกับ Embeddings อื่น ๆ และเข้าใจว่าทำไมระบบ Retrieval จึงดึงเอกสารบางเอกสารขึ้นมา"
      ],
      "metadata": {
        "id": "qL-mT1b1pRpU"
      }
    },
    {
      "cell_type": "code",
      "source": [
        "import faiss\n",
        "import numpy as np\n",
        "import tensorflow as tf\n",
        "from tensorboard.plugins import projector\n",
        "import os\n",
        "\n",
        "faiss_index_path = '/content/faiss_index/index.faiss'\n",
        "index = faiss.read_index(faiss_index_path)\n",
        "num_vectors_to_retrieve = 100\n",
        "vectors = []\n",
        "metadata = []\n",
        "\n",
        "for i in range(num_vectors_to_retrieve):\n",
        "    vector = index.reconstruct(i)\n",
        "    vectors.append(vector)\n",
        "    metadata.append(f\"Document ID {i}\")\n",
        "\n",
        "vectors = np.array(vectors)\n",
        "query_vector = np.random.rand(index.d).astype(np.float32)\n",
        "k = 10\n",
        "distances, indices = index.search(np.array([query_vector]), k)\n",
        "metadata.append(\"Query Vector\")\n",
        "vectors = np.vstack([vectors, query_vector])\n",
        "\n",
        "log_dir = \"/content/tensorboard_logs\"\n",
        "if not os.path.exists(log_dir):\n",
        "    os.makedirs(log_dir)\n",
        "\n",
        "embedding_file = os.path.join(log_dir, \"embeddings.tsv\")\n",
        "metadata_file = os.path.join(log_dir, \"metadata.tsv\")\n",
        "\n",
        "np.savetxt(embedding_file, vectors, delimiter=\"\\t\")\n",
        "with open(metadata_file, \"w\") as f:\n",
        "    f.write(\"Document\\n\")\n",
        "    f.writelines(\"\\n\".join(metadata))\n",
        "\n",
        "config = projector.ProjectorConfig()\n",
        "embedding = config.embeddings.add()\n",
        "embedding.tensor_name = \"embeddings\"\n",
        "embedding.metadata_path = \"metadata.tsv\"\n",
        "checkpoint_path = os.path.join(log_dir, \"embeddings.ckpt\")\n",
        "checkpoint = tf.train.Checkpoint(embeddings=tf.Variable(vectors, dtype=tf.float32))\n",
        "checkpoint.save(file_prefix=checkpoint_path)\n",
        "projector.visualize_embeddings(log_dir, config)"
      ],
      "metadata": {
        "id": "gM1vWQLt5T8y"
      },
      "execution_count": null,
      "outputs": []
    },
    {
      "cell_type": "markdown",
      "source": [
        "### **Visualizing Embeddings ด้วย UMAP**\n",
        "\n",
        "การแสดงผล Embeddings ด้วย UMAP (Uniform Manifold Approximation and Projection) เป็นเทคนิคสำคัญในการทำ EDA (Exploratory Data Analysis) ของระบบ RAG โดยเฉพาะอย่างยิ่งเมื่อใช้ FAISS VectorDB. UMAP ช่วยลดมิติของ Embeddings ให้อยู่ใน 2 มิติ เพื่อให้สามารถเห็นการกระจายของข้อมูลได้ ทำให้เข้าใจว่า embeddings ของข้อความต่าง ๆ อยู่กระจายตัวอย่างไรใน vector space ในงานนี้คณะผู้จัดทำใช้สำหรับวิเคราะห์ผลลัพธ์การค้นหา เน้น embeddings ที่ใกล้เคียงกับ question ที่สุด ด้วยสีแดง และ embedding ของ question ด้วยสีน้ำเงิน ทำให้เห็นว่า ผลลัพธ์การค้นหาจาก FAISS มีความเกี่ยวข้องกับคำถามมากน้อยเพียงใด และกระจายตัวอย่างไรเทียบกับข้อมูลอื่น ๆ ในฐานข้อมูล"
      ],
      "metadata": {
        "id": "WZB11Si-qbdk"
      }
    },
    {
      "cell_type": "code",
      "source": [
        "import faiss\n",
        "import numpy as np\n",
        "import pandas as pd\n",
        "import umap\n",
        "import matplotlib.pyplot as plt\n",
        "from langchain.embeddings import HuggingFaceEmbeddings\n",
        "\n",
        "faiss_index_path = \"/content/faiss_index/index.faiss\"\n",
        "embed_model = HuggingFaceEmbeddings(model_name=\"BAAI/bge-m3\")\n",
        "quantizer = faiss.IndexFlatL2(embed_model.client.encode(['test']).shape[1])\n",
        "index = faiss.IndexIVFFlat(quantizer, embed_model.client.encode(['test']).shape[1], 100, faiss.METRIC_L2)\n",
        "index.nprobe = 50\n",
        "index = faiss.read_index(faiss_index_path)\n",
        "\n",
        "def visualize_embeddings(question, index, embeddings_model, top_k=5):\n",
        "    question_embedding = embeddings_model.embed_query(question)\n",
        "    question_embedding = np.array([question_embedding]).astype(np.float32)\n",
        "    D, I = index.search(question_embedding, top_k + 1)\n",
        "    all_embeddings = index.reconstruct_n(0, index.ntotal)\n",
        "    df = pd.DataFrame({\n",
        "        \"id\": range(index.ntotal),\n",
        "        \"embedding\": list(all_embeddings)\n",
        "    })\n",
        "    df['dist'] = np.linalg.norm(all_embeddings - question_embedding, axis=1)\n",
        "    closest_vectors_indices = I[0][1:]\n",
        "    embeddings_umap = np.array([np.array(x) for x in df[\"embedding\"]])\n",
        "    reducer = umap.UMAP()\n",
        "    embedding_reduced = reducer.fit_transform(embeddings_umap)\n",
        "    plt.scatter(embedding_reduced[:, 0], embedding_reduced[:, 1], c='gray', alpha=0.2)\n",
        "    plt.scatter(embedding_reduced[closest_vectors_indices, 0], embedding_reduced[closest_vectors_indices, 1], c='red', alpha=1)\n",
        "    plt.scatter(embedding_reduced[I[0][0], 0], embedding_reduced[I[0][0], 1], c='blue', alpha=1, marker='*')\n",
        "    plt.title(\"UMAP Visualization of Text Embeddings with Question Highlighted\")\n",
        "    plt.xlabel(\"UMAP 1\")\n",
        "    plt.ylabel(\"UMAP 2\")\n",
        "    plt.show()\n",
        "\n",
        "question = \"การพัฒนาอุตสาหกรรมปทุมธานี\"\n",
        "visualize_embeddings(question, index, embed_model)"
      ],
      "metadata": {
        "id": "xMR4mgaj5Ue3"
      },
      "execution_count": null,
      "outputs": []
    },
    {
      "cell_type": "code",
      "source": [
        "%load_ext tensorboard\n",
        "%tensorboard --logdir=/content/tensorboard_logs"
      ],
      "metadata": {
        "id": "hMxR4HgdNk2v"
      },
      "execution_count": null,
      "outputs": []
    },
    {
      "cell_type": "markdown",
      "source": [
        "## **LLM Generation Model**\n",
        "\n",
        "เป็นขั้นตอนโดยรวมของการทำงานใน RAG pipeline ตั้งแต่การ data retrieval, การสร้าง prompt, response generation, และการเชื่อมต่อกับ OpenAI API เพื่อสร้างคำตอบ"
      ],
      "metadata": {
        "id": "MxCE9hwxFI2b"
      }
    },
    {
      "cell_type": "code",
      "source": [
        "client = OpenAI(\n",
        "    api_key='sk-GqA4Uj6iZXaykbOzIlFGtmdJr6VqiX94NhhjPZaf81kylRzh',\n",
        "    base_url='https://api.opentyphoon.ai/v1'\n",
        ")\n",
        "\n",
        "def summarize_text(text, max_tokens=512):\n",
        "    tokens = text.split()\n",
        "    return ' '.join(tokens[:max_tokens]) + '...' if len(tokens) > max_tokens else text\n",
        "\n",
        "def generate_response(prompt):\n",
        "    chat_completion = client.chat.completions.create(\n",
        "        model=\"typhoon-v1.5x-70b-instruct\",\n",
        "        messages=[{\"role\": \"user\", \"content\": prompt}],\n",
        "        max_tokens=1024,\n",
        "        stop=None\n",
        "    )\n",
        "    generated_text = chat_completion.choices[0].message.content.strip()\n",
        "    return generated_text\n",
        "\n",
        "def retrieve_documents(query, retriever):\n",
        "    return retriever.get_relevant_documents(query)\n",
        "\n",
        "def ask_question_with_context(retriever, question):\n",
        "    retrieved_docs = retrieve_documents(question, retriever)\n",
        "    summarized_data = summarize_text(\"\\n\".join([doc.page_content for doc in retrieved_docs]), max_tokens=512)\n",
        "    full_prompt = (\n",
        "        f\"Context for Pathum Thani development:\\n{summarized_data}\\n\\n\"\n",
        "        f\"New question: {question}\"\n",
        "    )\n",
        "    response = generate_response(full_prompt)\n",
        "    return response\n",
        "\n",
        "retriever = vector_db.as_retriever(search_kwargs={'k': 5})\n"
      ],
      "metadata": {
        "id": "7ll708H0LF22"
      },
      "execution_count": null,
      "outputs": []
    },
    {
      "cell_type": "markdown",
      "source": [
        "## ChatBot GrowthVision"
      ],
      "metadata": {
        "id": "4ps0s5jqFOf-"
      }
    },
    {
      "cell_type": "code",
      "source": [
        "with gr.Blocks(css=\".gradio-container {height: 100vh; width: 100vw;}\") as demo:\n",
        "    chatbot = gr.Chatbot(height=600, label=\"Chat with AI\")\n",
        "    msg = gr.Textbox(label=\"Ask your question about Pathum Thani Province\", placeholder=\"Type your question here...\")\n",
        "    submit = gr.Button(\"Submit\")\n",
        "\n",
        "    def respond(message, chat_history):\n",
        "        chat_history.append((\"user\", message))\n",
        "        bot_message = ask_question_with_context(retriever, message)\n",
        "        chat_history.append((\"assistant\", bot_message))\n",
        "        time.sleep(2)\n",
        "        return \"\", chat_history\n",
        "\n",
        "    submit.click(respond, [msg, chatbot], [msg, chatbot])\n",
        "    msg.submit(respond, [msg, chatbot], [msg, chatbot])\n",
        "\n",
        "if __name__ == \"__main__\":\n",
        "    demo.launch()"
      ],
      "metadata": {
        "id": "g3-pnvHgfalM"
      },
      "execution_count": null,
      "outputs": []
    },
    {
      "cell_type": "code",
      "source": [],
      "metadata": {
        "id": "TEbY8ZIGkxYO"
      },
      "execution_count": null,
      "outputs": []
    }
  ]
}