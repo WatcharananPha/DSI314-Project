{
 "cells": [
  {
   "cell_type": "code",
   "execution_count": 1,
   "metadata": {
    "id": "PsMnBjpWw7vS"
   },
   "outputs": [
    {
     "name": "stdout",
     "output_type": "stream",
     "text": [
      "Requirement already satisfied: langchain in c:\\users\\kongl\\documents\\dsi314 progress 2\\dsi314\\lib\\site-packages (from -r requirements.txt (line 1)) (0.3.7)\n",
      "Requirement already satisfied: langchain-community in c:\\users\\kongl\\documents\\dsi314 progress 2\\dsi314\\lib\\site-packages (from -r requirements.txt (line 2)) (0.3.7)\n",
      "Requirement already satisfied: llama-parse in c:\\users\\kongl\\documents\\dsi314 progress 2\\dsi314\\lib\\site-packages (from -r requirements.txt (line 3)) (0.5.14)\n",
      "Requirement already satisfied: fastembed in c:\\users\\kongl\\documents\\dsi314 progress 2\\dsi314\\lib\\site-packages (from -r requirements.txt (line 4)) (0.4.2)\n",
      "Requirement already satisfied: python-dotenv in c:\\users\\kongl\\documents\\dsi314 progress 2\\dsi314\\lib\\site-packages (from -r requirements.txt (line 5)) (1.0.1)\n",
      "Requirement already satisfied: langchain-groq in c:\\users\\kongl\\documents\\dsi314 progress 2\\dsi314\\lib\\site-packages (from -r requirements.txt (line 6)) (0.2.1)\n",
      "Requirement already satisfied: chainlit in c:\\users\\kongl\\documents\\dsi314 progress 2\\dsi314\\lib\\site-packages (from -r requirements.txt (line 7)) (1.3.2)\n",
      "Requirement already satisfied: sentence-transformers in c:\\users\\kongl\\documents\\dsi314 progress 2\\dsi314\\lib\\site-packages (from -r requirements.txt (line 9)) (3.3.0)\n",
      "Requirement already satisfied: openai in c:\\users\\kongl\\documents\\dsi314 progress 2\\dsi314\\lib\\site-packages (from -r requirements.txt (line 10)) (1.54.4)\n",
      "Requirement already satisfied: langchain-openai in c:\\users\\kongl\\documents\\dsi314 progress 2\\dsi314\\lib\\site-packages (from -r requirements.txt (line 11)) (0.2.8)\n",
      "Requirement already satisfied: nltk in c:\\users\\kongl\\documents\\dsi314 progress 2\\dsi314\\lib\\site-packages (from -r requirements.txt (line 12)) (3.9.1)\n",
      "Requirement already satisfied: joblib in c:\\users\\kongl\\documents\\dsi314 progress 2\\dsi314\\lib\\site-packages (from -r requirements.txt (line 13)) (1.4.2)\n",
      "Requirement already satisfied: gdown in c:\\users\\kongl\\documents\\dsi314 progress 2\\dsi314\\lib\\site-packages (from -r requirements.txt (line 14)) (5.2.0)\n",
      "Requirement already satisfied: faiss-cpu in c:\\users\\kongl\\documents\\dsi314 progress 2\\dsi314\\lib\\site-packages (from -r requirements.txt (line 15)) (1.9.0.post1)\n",
      "Requirement already satisfied: nest-asyncio in c:\\users\\kongl\\documents\\dsi314 progress 2\\dsi314\\lib\\site-packages (from -r requirements.txt (line 16)) (1.6.0)\n",
      "Requirement already satisfied: unstructured[md] in c:\\users\\kongl\\documents\\dsi314 progress 2\\dsi314\\lib\\site-packages (from -r requirements.txt (line 17)) (0.16.5)\n",
      "Requirement already satisfied: PyYAML>=5.3 in c:\\users\\kongl\\documents\\dsi314 progress 2\\dsi314\\lib\\site-packages (from langchain->-r requirements.txt (line 1)) (6.0.2)\n",
      "Requirement already satisfied: SQLAlchemy<3,>=1.4 in c:\\users\\kongl\\documents\\dsi314 progress 2\\dsi314\\lib\\site-packages (from langchain->-r requirements.txt (line 1)) (2.0.35)\n",
      "Requirement already satisfied: aiohttp<4.0.0,>=3.8.3 in c:\\users\\kongl\\documents\\dsi314 progress 2\\dsi314\\lib\\site-packages (from langchain->-r requirements.txt (line 1)) (3.11.2)\n",
      "Requirement already satisfied: langchain-core<0.4.0,>=0.3.15 in c:\\users\\kongl\\documents\\dsi314 progress 2\\dsi314\\lib\\site-packages (from langchain->-r requirements.txt (line 1)) (0.3.18)\n",
      "Requirement already satisfied: langchain-text-splitters<0.4.0,>=0.3.0 in c:\\users\\kongl\\documents\\dsi314 progress 2\\dsi314\\lib\\site-packages (from langchain->-r requirements.txt (line 1)) (0.3.2)\n",
      "Requirement already satisfied: langsmith<0.2.0,>=0.1.17 in c:\\users\\kongl\\documents\\dsi314 progress 2\\dsi314\\lib\\site-packages (from langchain->-r requirements.txt (line 1)) (0.1.143)\n",
      "Requirement already satisfied: numpy<2,>=1 in c:\\users\\kongl\\documents\\dsi314 progress 2\\dsi314\\lib\\site-packages (from langchain->-r requirements.txt (line 1)) (1.26.4)\n",
      "Requirement already satisfied: pydantic<3.0.0,>=2.7.4 in c:\\users\\kongl\\documents\\dsi314 progress 2\\dsi314\\lib\\site-packages (from langchain->-r requirements.txt (line 1)) (2.9.2)\n",
      "Requirement already satisfied: requests<3,>=2 in c:\\users\\kongl\\documents\\dsi314 progress 2\\dsi314\\lib\\site-packages (from langchain->-r requirements.txt (line 1)) (2.32.3)\n",
      "Requirement already satisfied: tenacity!=8.4.0,<10,>=8.1.0 in c:\\users\\kongl\\documents\\dsi314 progress 2\\dsi314\\lib\\site-packages (from langchain->-r requirements.txt (line 1)) (8.5.0)\n",
      "Requirement already satisfied: dataclasses-json<0.7,>=0.5.7 in c:\\users\\kongl\\documents\\dsi314 progress 2\\dsi314\\lib\\site-packages (from langchain-community->-r requirements.txt (line 2)) (0.6.7)\n",
      "Requirement already satisfied: httpx-sse<0.5.0,>=0.4.0 in c:\\users\\kongl\\documents\\dsi314 progress 2\\dsi314\\lib\\site-packages (from langchain-community->-r requirements.txt (line 2)) (0.4.0)\n",
      "Requirement already satisfied: pydantic-settings<3.0.0,>=2.4.0 in c:\\users\\kongl\\documents\\dsi314 progress 2\\dsi314\\lib\\site-packages (from langchain-community->-r requirements.txt (line 2)) (2.6.1)\n",
      "Requirement already satisfied: click<9.0.0,>=8.1.7 in c:\\users\\kongl\\documents\\dsi314 progress 2\\dsi314\\lib\\site-packages (from llama-parse->-r requirements.txt (line 3)) (8.1.7)\n",
      "Requirement already satisfied: llama-index-core>=0.11.0 in c:\\users\\kongl\\documents\\dsi314 progress 2\\dsi314\\lib\\site-packages (from llama-parse->-r requirements.txt (line 3)) (0.11.23)\n",
      "Requirement already satisfied: huggingface-hub<1.0,>=0.20 in c:\\users\\kongl\\documents\\dsi314 progress 2\\dsi314\\lib\\site-packages (from fastembed->-r requirements.txt (line 4)) (0.26.2)\n",
      "Requirement already satisfied: loguru<0.8.0,>=0.7.2 in c:\\users\\kongl\\documents\\dsi314 progress 2\\dsi314\\lib\\site-packages (from fastembed->-r requirements.txt (line 4)) (0.7.2)\n",
      "Requirement already satisfied: mmh3<5.0.0,>=4.1.0 in c:\\users\\kongl\\documents\\dsi314 progress 2\\dsi314\\lib\\site-packages (from fastembed->-r requirements.txt (line 4)) (4.1.0)\n",
      "Requirement already satisfied: onnx<2.0.0,>=1.15.0 in c:\\users\\kongl\\documents\\dsi314 progress 2\\dsi314\\lib\\site-packages (from fastembed->-r requirements.txt (line 4)) (1.17.0)\n",
      "Requirement already satisfied: onnxruntime<1.20.0,>=1.17.0 in c:\\users\\kongl\\documents\\dsi314 progress 2\\dsi314\\lib\\site-packages (from fastembed->-r requirements.txt (line 4)) (1.19.2)\n",
      "Requirement already satisfied: pillow<11.0.0,>=10.3.0 in c:\\users\\kongl\\documents\\dsi314 progress 2\\dsi314\\lib\\site-packages (from fastembed->-r requirements.txt (line 4)) (10.4.0)\n",
      "Requirement already satisfied: py-rust-stemmers<0.2.0,>=0.1.0 in c:\\users\\kongl\\documents\\dsi314 progress 2\\dsi314\\lib\\site-packages (from fastembed->-r requirements.txt (line 4)) (0.1.3)\n",
      "Requirement already satisfied: tokenizers<1.0,>=0.15 in c:\\users\\kongl\\documents\\dsi314 progress 2\\dsi314\\lib\\site-packages (from fastembed->-r requirements.txt (line 4)) (0.20.3)\n",
      "Requirement already satisfied: tqdm<5.0,>=4.66 in c:\\users\\kongl\\documents\\dsi314 progress 2\\dsi314\\lib\\site-packages (from fastembed->-r requirements.txt (line 4)) (4.67.0)\n",
      "Requirement already satisfied: groq<1,>=0.4.1 in c:\\users\\kongl\\documents\\dsi314 progress 2\\dsi314\\lib\\site-packages (from langchain-groq->-r requirements.txt (line 6)) (0.12.0)\n",
      "Requirement already satisfied: aiofiles<24.0.0,>=23.1.0 in c:\\users\\kongl\\documents\\dsi314 progress 2\\dsi314\\lib\\site-packages (from chainlit->-r requirements.txt (line 7)) (23.2.1)\n",
      "Requirement already satisfied: asyncer<0.0.8,>=0.0.7 in c:\\users\\kongl\\documents\\dsi314 progress 2\\dsi314\\lib\\site-packages (from chainlit->-r requirements.txt (line 7)) (0.0.7)\n",
      "Requirement already satisfied: fastapi<0.116,>=0.115.3 in c:\\users\\kongl\\documents\\dsi314 progress 2\\dsi314\\lib\\site-packages (from chainlit->-r requirements.txt (line 7)) (0.115.5)\n",
      "Requirement already satisfied: filetype<2.0.0,>=1.2.0 in c:\\users\\kongl\\documents\\dsi314 progress 2\\dsi314\\lib\\site-packages (from chainlit->-r requirements.txt (line 7)) (1.2.0)\n",
      "Requirement already satisfied: httpx>=0.23.0 in c:\\users\\kongl\\documents\\dsi314 progress 2\\dsi314\\lib\\site-packages (from chainlit->-r requirements.txt (line 7)) (0.27.2)\n",
      "Requirement already satisfied: lazify<0.5.0,>=0.4.0 in c:\\users\\kongl\\documents\\dsi314 progress 2\\dsi314\\lib\\site-packages (from chainlit->-r requirements.txt (line 7)) (0.4.0)\n",
      "Requirement already satisfied: literalai==0.0.623 in c:\\users\\kongl\\documents\\dsi314 progress 2\\dsi314\\lib\\site-packages (from chainlit->-r requirements.txt (line 7)) (0.0.623)\n",
      "Requirement already satisfied: packaging<24.0,>=23.1 in c:\\users\\kongl\\documents\\dsi314 progress 2\\dsi314\\lib\\site-packages (from chainlit->-r requirements.txt (line 7)) (23.2)\n",
      "Requirement already satisfied: pyjwt<3.0.0,>=2.8.0 in c:\\users\\kongl\\documents\\dsi314 progress 2\\dsi314\\lib\\site-packages (from chainlit->-r requirements.txt (line 7)) (2.9.0)\n",
      "Requirement already satisfied: python-multipart<0.0.10,>=0.0.9 in c:\\users\\kongl\\documents\\dsi314 progress 2\\dsi314\\lib\\site-packages (from chainlit->-r requirements.txt (line 7)) (0.0.9)\n",
      "Requirement already satisfied: python-socketio<6.0.0,>=5.11.0 in c:\\users\\kongl\\documents\\dsi314 progress 2\\dsi314\\lib\\site-packages (from chainlit->-r requirements.txt (line 7)) (5.11.4)\n",
      "Requirement already satisfied: starlette<0.42.0,>=0.41.2 in c:\\users\\kongl\\documents\\dsi314 progress 2\\dsi314\\lib\\site-packages (from chainlit->-r requirements.txt (line 7)) (0.41.2)\n",
      "Requirement already satisfied: syncer<3.0.0,>=2.0.3 in c:\\users\\kongl\\documents\\dsi314 progress 2\\dsi314\\lib\\site-packages (from chainlit->-r requirements.txt (line 7)) (2.0.3)\n",
      "Requirement already satisfied: tomli<3.0.0,>=2.0.1 in c:\\users\\kongl\\documents\\dsi314 progress 2\\dsi314\\lib\\site-packages (from chainlit->-r requirements.txt (line 7)) (2.1.0)\n",
      "Requirement already satisfied: uptrace<2.0.0,>=1.22.0 in c:\\users\\kongl\\documents\\dsi314 progress 2\\dsi314\\lib\\site-packages (from chainlit->-r requirements.txt (line 7)) (1.27.0)\n",
      "Requirement already satisfied: uvicorn<0.26.0,>=0.25.0 in c:\\users\\kongl\\documents\\dsi314 progress 2\\dsi314\\lib\\site-packages (from chainlit->-r requirements.txt (line 7)) (0.25.0)\n",
      "Requirement already satisfied: watchfiles<0.21.0,>=0.20.0 in c:\\users\\kongl\\documents\\dsi314 progress 2\\dsi314\\lib\\site-packages (from chainlit->-r requirements.txt (line 7)) (0.20.0)\n",
      "Requirement already satisfied: chevron>=0.14.0 in c:\\users\\kongl\\documents\\dsi314 progress 2\\dsi314\\lib\\site-packages (from literalai==0.0.623->chainlit->-r requirements.txt (line 7)) (0.14.0)\n",
      "Requirement already satisfied: transformers<5.0.0,>=4.41.0 in c:\\users\\kongl\\documents\\dsi314 progress 2\\dsi314\\lib\\site-packages (from sentence-transformers->-r requirements.txt (line 9)) (4.46.2)\n",
      "Requirement already satisfied: torch>=1.11.0 in c:\\users\\kongl\\documents\\dsi314 progress 2\\dsi314\\lib\\site-packages (from sentence-transformers->-r requirements.txt (line 9)) (2.5.1)\n",
      "Requirement already satisfied: scikit-learn in c:\\users\\kongl\\documents\\dsi314 progress 2\\dsi314\\lib\\site-packages (from sentence-transformers->-r requirements.txt (line 9)) (1.5.2)\n",
      "Requirement already satisfied: scipy in c:\\users\\kongl\\documents\\dsi314 progress 2\\dsi314\\lib\\site-packages (from sentence-transformers->-r requirements.txt (line 9)) (1.14.1)\n",
      "Requirement already satisfied: anyio<5,>=3.5.0 in c:\\users\\kongl\\documents\\dsi314 progress 2\\dsi314\\lib\\site-packages (from openai->-r requirements.txt (line 10)) (4.6.2.post1)\n",
      "Requirement already satisfied: distro<2,>=1.7.0 in c:\\users\\kongl\\documents\\dsi314 progress 2\\dsi314\\lib\\site-packages (from openai->-r requirements.txt (line 10)) (1.9.0)\n",
      "Requirement already satisfied: jiter<1,>=0.4.0 in c:\\users\\kongl\\documents\\dsi314 progress 2\\dsi314\\lib\\site-packages (from openai->-r requirements.txt (line 10)) (0.7.1)\n",
      "Requirement already satisfied: sniffio in c:\\users\\kongl\\documents\\dsi314 progress 2\\dsi314\\lib\\site-packages (from openai->-r requirements.txt (line 10)) (1.3.1)\n",
      "Requirement already satisfied: typing-extensions<5,>=4.11 in c:\\users\\kongl\\documents\\dsi314 progress 2\\dsi314\\lib\\site-packages (from openai->-r requirements.txt (line 10)) (4.12.2)\n",
      "Requirement already satisfied: tiktoken<1,>=0.7 in c:\\users\\kongl\\documents\\dsi314 progress 2\\dsi314\\lib\\site-packages (from langchain-openai->-r requirements.txt (line 11)) (0.8.0)\n",
      "Requirement already satisfied: regex>=2021.8.3 in c:\\users\\kongl\\documents\\dsi314 progress 2\\dsi314\\lib\\site-packages (from nltk->-r requirements.txt (line 12)) (2024.11.6)\n",
      "Requirement already satisfied: beautifulsoup4 in c:\\users\\kongl\\documents\\dsi314 progress 2\\dsi314\\lib\\site-packages (from gdown->-r requirements.txt (line 14)) (4.12.3)\n",
      "Requirement already satisfied: filelock in c:\\users\\kongl\\documents\\dsi314 progress 2\\dsi314\\lib\\site-packages (from gdown->-r requirements.txt (line 14)) (3.16.1)\n",
      "Requirement already satisfied: chardet in c:\\users\\kongl\\documents\\dsi314 progress 2\\dsi314\\lib\\site-packages (from unstructured[md]->-r requirements.txt (line 17)) (5.2.0)\n",
      "Requirement already satisfied: python-magic in c:\\users\\kongl\\documents\\dsi314 progress 2\\dsi314\\lib\\site-packages (from unstructured[md]->-r requirements.txt (line 17)) (0.4.27)\n",
      "Requirement already satisfied: lxml in c:\\users\\kongl\\documents\\dsi314 progress 2\\dsi314\\lib\\site-packages (from unstructured[md]->-r requirements.txt (line 17)) (5.3.0)\n",
      "Requirement already satisfied: emoji in c:\\users\\kongl\\documents\\dsi314 progress 2\\dsi314\\lib\\site-packages (from unstructured[md]->-r requirements.txt (line 17)) (2.14.0)\n",
      "Requirement already satisfied: python-iso639 in c:\\users\\kongl\\documents\\dsi314 progress 2\\dsi314\\lib\\site-packages (from unstructured[md]->-r requirements.txt (line 17)) (2024.10.22)\n",
      "Requirement already satisfied: langdetect in c:\\users\\kongl\\documents\\dsi314 progress 2\\dsi314\\lib\\site-packages (from unstructured[md]->-r requirements.txt (line 17)) (1.0.9)\n",
      "Requirement already satisfied: rapidfuzz in c:\\users\\kongl\\documents\\dsi314 progress 2\\dsi314\\lib\\site-packages (from unstructured[md]->-r requirements.txt (line 17)) (3.10.1)\n",
      "Requirement already satisfied: backoff in c:\\users\\kongl\\documents\\dsi314 progress 2\\dsi314\\lib\\site-packages (from unstructured[md]->-r requirements.txt (line 17)) (2.2.1)\n",
      "Requirement already satisfied: unstructured-client in c:\\users\\kongl\\documents\\dsi314 progress 2\\dsi314\\lib\\site-packages (from unstructured[md]->-r requirements.txt (line 17)) (0.27.0)\n",
      "Requirement already satisfied: wrapt in c:\\users\\kongl\\documents\\dsi314 progress 2\\dsi314\\lib\\site-packages (from unstructured[md]->-r requirements.txt (line 17)) (1.16.0)\n",
      "Requirement already satisfied: psutil in c:\\users\\kongl\\documents\\dsi314 progress 2\\dsi314\\lib\\site-packages (from unstructured[md]->-r requirements.txt (line 17)) (6.1.0)\n",
      "Requirement already satisfied: python-oxmsg in c:\\users\\kongl\\documents\\dsi314 progress 2\\dsi314\\lib\\site-packages (from unstructured[md]->-r requirements.txt (line 17)) (0.0.1)\n",
      "Requirement already satisfied: html5lib in c:\\users\\kongl\\documents\\dsi314 progress 2\\dsi314\\lib\\site-packages (from unstructured[md]->-r requirements.txt (line 17)) (1.1)\n",
      "Requirement already satisfied: markdown in c:\\users\\kongl\\documents\\dsi314 progress 2\\dsi314\\lib\\site-packages (from unstructured[md]->-r requirements.txt (line 17)) (3.7)\n",
      "Requirement already satisfied: aiohappyeyeballs>=2.3.0 in c:\\users\\kongl\\documents\\dsi314 progress 2\\dsi314\\lib\\site-packages (from aiohttp<4.0.0,>=3.8.3->langchain->-r requirements.txt (line 1)) (2.4.3)\n",
      "Requirement already satisfied: aiosignal>=1.1.2 in c:\\users\\kongl\\documents\\dsi314 progress 2\\dsi314\\lib\\site-packages (from aiohttp<4.0.0,>=3.8.3->langchain->-r requirements.txt (line 1)) (1.3.1)\n",
      "Requirement already satisfied: attrs>=17.3.0 in c:\\users\\kongl\\documents\\dsi314 progress 2\\dsi314\\lib\\site-packages (from aiohttp<4.0.0,>=3.8.3->langchain->-r requirements.txt (line 1)) (24.2.0)\n",
      "Requirement already satisfied: frozenlist>=1.1.1 in c:\\users\\kongl\\documents\\dsi314 progress 2\\dsi314\\lib\\site-packages (from aiohttp<4.0.0,>=3.8.3->langchain->-r requirements.txt (line 1)) (1.5.0)\n",
      "Requirement already satisfied: multidict<7.0,>=4.5 in c:\\users\\kongl\\documents\\dsi314 progress 2\\dsi314\\lib\\site-packages (from aiohttp<4.0.0,>=3.8.3->langchain->-r requirements.txt (line 1)) (6.1.0)\n",
      "Requirement already satisfied: propcache>=0.2.0 in c:\\users\\kongl\\documents\\dsi314 progress 2\\dsi314\\lib\\site-packages (from aiohttp<4.0.0,>=3.8.3->langchain->-r requirements.txt (line 1)) (0.2.0)\n",
      "Requirement already satisfied: yarl<2.0,>=1.17.0 in c:\\users\\kongl\\documents\\dsi314 progress 2\\dsi314\\lib\\site-packages (from aiohttp<4.0.0,>=3.8.3->langchain->-r requirements.txt (line 1)) (1.17.1)\n",
      "Requirement already satisfied: idna>=2.8 in c:\\users\\kongl\\documents\\dsi314 progress 2\\dsi314\\lib\\site-packages (from anyio<5,>=3.5.0->openai->-r requirements.txt (line 10)) (3.10)\n",
      "Requirement already satisfied: colorama in c:\\users\\kongl\\documents\\dsi314 progress 2\\dsi314\\lib\\site-packages (from click<9.0.0,>=8.1.7->llama-parse->-r requirements.txt (line 3)) (0.4.6)\n",
      "Requirement already satisfied: marshmallow<4.0.0,>=3.18.0 in c:\\users\\kongl\\documents\\dsi314 progress 2\\dsi314\\lib\\site-packages (from dataclasses-json<0.7,>=0.5.7->langchain-community->-r requirements.txt (line 2)) (3.23.1)\n",
      "Requirement already satisfied: typing-inspect<1,>=0.4.0 in c:\\users\\kongl\\documents\\dsi314 progress 2\\dsi314\\lib\\site-packages (from dataclasses-json<0.7,>=0.5.7->langchain-community->-r requirements.txt (line 2)) (0.9.0)\n",
      "Requirement already satisfied: certifi in c:\\users\\kongl\\documents\\dsi314 progress 2\\dsi314\\lib\\site-packages (from httpx>=0.23.0->chainlit->-r requirements.txt (line 7)) (2024.8.30)\n",
      "Requirement already satisfied: httpcore==1.* in c:\\users\\kongl\\documents\\dsi314 progress 2\\dsi314\\lib\\site-packages (from httpx>=0.23.0->chainlit->-r requirements.txt (line 7)) (1.0.6)\n",
      "Requirement already satisfied: h11<0.15,>=0.13 in c:\\users\\kongl\\documents\\dsi314 progress 2\\dsi314\\lib\\site-packages (from httpcore==1.*->httpx>=0.23.0->chainlit->-r requirements.txt (line 7)) (0.14.0)\n",
      "Requirement already satisfied: fsspec>=2023.5.0 in c:\\users\\kongl\\documents\\dsi314 progress 2\\dsi314\\lib\\site-packages (from huggingface-hub<1.0,>=0.20->fastembed->-r requirements.txt (line 4)) (2024.10.0)\n",
      "Requirement already satisfied: jsonpatch<2.0,>=1.33 in c:\\users\\kongl\\documents\\dsi314 progress 2\\dsi314\\lib\\site-packages (from langchain-core<0.4.0,>=0.3.15->langchain->-r requirements.txt (line 1)) (1.33)\n",
      "Requirement already satisfied: orjson<4.0.0,>=3.9.14 in c:\\users\\kongl\\documents\\dsi314 progress 2\\dsi314\\lib\\site-packages (from langsmith<0.2.0,>=0.1.17->langchain->-r requirements.txt (line 1)) (3.10.11)\n",
      "Requirement already satisfied: requests-toolbelt<2.0.0,>=1.0.0 in c:\\users\\kongl\\documents\\dsi314 progress 2\\dsi314\\lib\\site-packages (from langsmith<0.2.0,>=0.1.17->langchain->-r requirements.txt (line 1)) (1.0.0)\n",
      "Requirement already satisfied: deprecated>=1.2.9.3 in c:\\users\\kongl\\documents\\dsi314 progress 2\\dsi314\\lib\\site-packages (from llama-index-core>=0.11.0->llama-parse->-r requirements.txt (line 3)) (1.2.14)\n",
      "Requirement already satisfied: dirtyjson<2.0.0,>=1.0.8 in c:\\users\\kongl\\documents\\dsi314 progress 2\\dsi314\\lib\\site-packages (from llama-index-core>=0.11.0->llama-parse->-r requirements.txt (line 3)) (1.0.8)\n",
      "Requirement already satisfied: networkx>=3.0 in c:\\users\\kongl\\documents\\dsi314 progress 2\\dsi314\\lib\\site-packages (from llama-index-core>=0.11.0->llama-parse->-r requirements.txt (line 3)) (3.4.2)\n",
      "Requirement already satisfied: win32-setctime>=1.0.0 in c:\\users\\kongl\\documents\\dsi314 progress 2\\dsi314\\lib\\site-packages (from loguru<0.8.0,>=0.7.2->fastembed->-r requirements.txt (line 4)) (1.1.0)\n",
      "Requirement already satisfied: protobuf>=3.20.2 in c:\\users\\kongl\\documents\\dsi314 progress 2\\dsi314\\lib\\site-packages (from onnx<2.0.0,>=1.15.0->fastembed->-r requirements.txt (line 4)) (5.28.3)\n",
      "Requirement already satisfied: coloredlogs in c:\\users\\kongl\\documents\\dsi314 progress 2\\dsi314\\lib\\site-packages (from onnxruntime<1.20.0,>=1.17.0->fastembed->-r requirements.txt (line 4)) (15.0.1)\n",
      "Requirement already satisfied: flatbuffers in c:\\users\\kongl\\documents\\dsi314 progress 2\\dsi314\\lib\\site-packages (from onnxruntime<1.20.0,>=1.17.0->fastembed->-r requirements.txt (line 4)) (24.3.25)\n",
      "Requirement already satisfied: sympy in c:\\users\\kongl\\documents\\dsi314 progress 2\\dsi314\\lib\\site-packages (from onnxruntime<1.20.0,>=1.17.0->fastembed->-r requirements.txt (line 4)) (1.13.1)\n",
      "Requirement already satisfied: annotated-types>=0.6.0 in c:\\users\\kongl\\documents\\dsi314 progress 2\\dsi314\\lib\\site-packages (from pydantic<3.0.0,>=2.7.4->langchain->-r requirements.txt (line 1)) (0.7.0)\n",
      "Requirement already satisfied: pydantic-core==2.23.4 in c:\\users\\kongl\\documents\\dsi314 progress 2\\dsi314\\lib\\site-packages (from pydantic<3.0.0,>=2.7.4->langchain->-r requirements.txt (line 1)) (2.23.4)\n",
      "Requirement already satisfied: bidict>=0.21.0 in c:\\users\\kongl\\documents\\dsi314 progress 2\\dsi314\\lib\\site-packages (from python-socketio<6.0.0,>=5.11.0->chainlit->-r requirements.txt (line 7)) (0.23.1)\n",
      "Requirement already satisfied: python-engineio>=4.8.0 in c:\\users\\kongl\\documents\\dsi314 progress 2\\dsi314\\lib\\site-packages (from python-socketio<6.0.0,>=5.11.0->chainlit->-r requirements.txt (line 7)) (4.10.1)\n",
      "Requirement already satisfied: charset-normalizer<4,>=2 in c:\\users\\kongl\\documents\\dsi314 progress 2\\dsi314\\lib\\site-packages (from requests<3,>=2->langchain->-r requirements.txt (line 1)) (3.4.0)\n",
      "Requirement already satisfied: urllib3<3,>=1.21.1 in c:\\users\\kongl\\documents\\dsi314 progress 2\\dsi314\\lib\\site-packages (from requests<3,>=2->langchain->-r requirements.txt (line 1)) (2.2.3)\n",
      "Requirement already satisfied: greenlet!=0.4.17 in c:\\users\\kongl\\documents\\dsi314 progress 2\\dsi314\\lib\\site-packages (from SQLAlchemy<3,>=1.4->langchain->-r requirements.txt (line 1)) (3.1.1)\n",
      "Requirement already satisfied: jinja2 in c:\\users\\kongl\\documents\\dsi314 progress 2\\dsi314\\lib\\site-packages (from torch>=1.11.0->sentence-transformers->-r requirements.txt (line 9)) (3.1.4)\n",
      "Requirement already satisfied: mpmath<1.4,>=1.1.0 in c:\\users\\kongl\\documents\\dsi314 progress 2\\dsi314\\lib\\site-packages (from sympy->onnxruntime<1.20.0,>=1.17.0->fastembed->-r requirements.txt (line 4)) (1.3.0)\n",
      "Requirement already satisfied: safetensors>=0.4.1 in c:\\users\\kongl\\documents\\dsi314 progress 2\\dsi314\\lib\\site-packages (from transformers<5.0.0,>=4.41.0->sentence-transformers->-r requirements.txt (line 9)) (0.4.5)\n",
      "Requirement already satisfied: opentelemetry-api~=1.27 in c:\\users\\kongl\\documents\\dsi314 progress 2\\dsi314\\lib\\site-packages (from uptrace<2.0.0,>=1.22.0->chainlit->-r requirements.txt (line 7)) (1.28.1)\n",
      "Requirement already satisfied: opentelemetry-exporter-otlp~=1.27 in c:\\users\\kongl\\documents\\dsi314 progress 2\\dsi314\\lib\\site-packages (from uptrace<2.0.0,>=1.22.0->chainlit->-r requirements.txt (line 7)) (1.28.1)\n",
      "Requirement already satisfied: opentelemetry-instrumentation~=0.48b0 in c:\\users\\kongl\\documents\\dsi314 progress 2\\dsi314\\lib\\site-packages (from uptrace<2.0.0,>=1.22.0->chainlit->-r requirements.txt (line 7)) (0.49b1)\n",
      "Requirement already satisfied: opentelemetry-sdk~=1.27 in c:\\users\\kongl\\documents\\dsi314 progress 2\\dsi314\\lib\\site-packages (from uptrace<2.0.0,>=1.22.0->chainlit->-r requirements.txt (line 7)) (1.28.1)\n",
      "Requirement already satisfied: soupsieve>1.2 in c:\\users\\kongl\\documents\\dsi314 progress 2\\dsi314\\lib\\site-packages (from beautifulsoup4->gdown->-r requirements.txt (line 14)) (2.6)\n",
      "Requirement already satisfied: six>=1.9 in c:\\users\\kongl\\documents\\dsi314 progress 2\\dsi314\\lib\\site-packages (from html5lib->unstructured[md]->-r requirements.txt (line 17)) (1.16.0)\n",
      "Requirement already satisfied: webencodings in c:\\users\\kongl\\documents\\dsi314 progress 2\\dsi314\\lib\\site-packages (from html5lib->unstructured[md]->-r requirements.txt (line 17)) (0.5.1)\n",
      "Requirement already satisfied: olefile in c:\\users\\kongl\\documents\\dsi314 progress 2\\dsi314\\lib\\site-packages (from python-oxmsg->unstructured[md]->-r requirements.txt (line 17)) (0.47)\n",
      "Requirement already satisfied: PySocks!=1.5.7,>=1.5.6 in c:\\users\\kongl\\documents\\dsi314 progress 2\\dsi314\\lib\\site-packages (from requests[socks]->gdown->-r requirements.txt (line 14)) (1.7.1)\n",
      "Requirement already satisfied: threadpoolctl>=3.1.0 in c:\\users\\kongl\\documents\\dsi314 progress 2\\dsi314\\lib\\site-packages (from scikit-learn->sentence-transformers->-r requirements.txt (line 9)) (3.5.0)\n",
      "Requirement already satisfied: cryptography>=3.1 in c:\\users\\kongl\\documents\\dsi314 progress 2\\dsi314\\lib\\site-packages (from unstructured-client->unstructured[md]->-r requirements.txt (line 17)) (43.0.3)\n",
      "Requirement already satisfied: eval-type-backport<0.3.0,>=0.2.0 in c:\\users\\kongl\\documents\\dsi314 progress 2\\dsi314\\lib\\site-packages (from unstructured-client->unstructured[md]->-r requirements.txt (line 17)) (0.2.0)\n",
      "Requirement already satisfied: jsonpath-python<2.0.0,>=1.0.6 in c:\\users\\kongl\\documents\\dsi314 progress 2\\dsi314\\lib\\site-packages (from unstructured-client->unstructured[md]->-r requirements.txt (line 17)) (1.0.6)\n",
      "Requirement already satisfied: pypdf>=4.0 in c:\\users\\kongl\\documents\\dsi314 progress 2\\dsi314\\lib\\site-packages (from unstructured-client->unstructured[md]->-r requirements.txt (line 17)) (5.1.0)\n",
      "Requirement already satisfied: python-dateutil==2.8.2 in c:\\users\\kongl\\documents\\dsi314 progress 2\\dsi314\\lib\\site-packages (from unstructured-client->unstructured[md]->-r requirements.txt (line 17)) (2.8.2)\n",
      "Requirement already satisfied: cffi>=1.12 in c:\\users\\kongl\\documents\\dsi314 progress 2\\dsi314\\lib\\site-packages (from cryptography>=3.1->unstructured-client->unstructured[md]->-r requirements.txt (line 17)) (1.17.1)\n",
      "Requirement already satisfied: jsonpointer>=1.9 in c:\\users\\kongl\\documents\\dsi314 progress 2\\dsi314\\lib\\site-packages (from jsonpatch<2.0,>=1.33->langchain-core<0.4.0,>=0.3.15->langchain->-r requirements.txt (line 1)) (3.0.0)\n",
      "Requirement already satisfied: importlib-metadata<=8.5.0,>=6.0 in c:\\users\\kongl\\documents\\dsi314 progress 2\\dsi314\\lib\\site-packages (from opentelemetry-api~=1.27->uptrace<2.0.0,>=1.22.0->chainlit->-r requirements.txt (line 7)) (8.5.0)\n",
      "Requirement already satisfied: opentelemetry-exporter-otlp-proto-grpc==1.28.1 in c:\\users\\kongl\\documents\\dsi314 progress 2\\dsi314\\lib\\site-packages (from opentelemetry-exporter-otlp~=1.27->uptrace<2.0.0,>=1.22.0->chainlit->-r requirements.txt (line 7)) (1.28.1)\n",
      "Requirement already satisfied: opentelemetry-exporter-otlp-proto-http==1.28.1 in c:\\users\\kongl\\documents\\dsi314 progress 2\\dsi314\\lib\\site-packages (from opentelemetry-exporter-otlp~=1.27->uptrace<2.0.0,>=1.22.0->chainlit->-r requirements.txt (line 7)) (1.28.1)\n",
      "Requirement already satisfied: googleapis-common-protos~=1.52 in c:\\users\\kongl\\documents\\dsi314 progress 2\\dsi314\\lib\\site-packages (from opentelemetry-exporter-otlp-proto-grpc==1.28.1->opentelemetry-exporter-otlp~=1.27->uptrace<2.0.0,>=1.22.0->chainlit->-r requirements.txt (line 7)) (1.66.0)\n",
      "Requirement already satisfied: grpcio<2.0.0,>=1.63.2 in c:\\users\\kongl\\documents\\dsi314 progress 2\\dsi314\\lib\\site-packages (from opentelemetry-exporter-otlp-proto-grpc==1.28.1->opentelemetry-exporter-otlp~=1.27->uptrace<2.0.0,>=1.22.0->chainlit->-r requirements.txt (line 7)) (1.68.0)\n",
      "Requirement already satisfied: opentelemetry-exporter-otlp-proto-common==1.28.1 in c:\\users\\kongl\\documents\\dsi314 progress 2\\dsi314\\lib\\site-packages (from opentelemetry-exporter-otlp-proto-grpc==1.28.1->opentelemetry-exporter-otlp~=1.27->uptrace<2.0.0,>=1.22.0->chainlit->-r requirements.txt (line 7)) (1.28.1)\n",
      "Requirement already satisfied: opentelemetry-proto==1.28.1 in c:\\users\\kongl\\documents\\dsi314 progress 2\\dsi314\\lib\\site-packages (from opentelemetry-exporter-otlp-proto-grpc==1.28.1->opentelemetry-exporter-otlp~=1.27->uptrace<2.0.0,>=1.22.0->chainlit->-r requirements.txt (line 7)) (1.28.1)\n",
      "Requirement already satisfied: opentelemetry-semantic-conventions==0.49b1 in c:\\users\\kongl\\documents\\dsi314 progress 2\\dsi314\\lib\\site-packages (from opentelemetry-instrumentation~=0.48b0->uptrace<2.0.0,>=1.22.0->chainlit->-r requirements.txt (line 7)) (0.49b1)\n",
      "Requirement already satisfied: simple-websocket>=0.10.0 in c:\\users\\kongl\\documents\\dsi314 progress 2\\dsi314\\lib\\site-packages (from python-engineio>=4.8.0->python-socketio<6.0.0,>=5.11.0->chainlit->-r requirements.txt (line 7)) (1.1.0)\n",
      "Requirement already satisfied: mypy-extensions>=0.3.0 in c:\\users\\kongl\\documents\\dsi314 progress 2\\dsi314\\lib\\site-packages (from typing-inspect<1,>=0.4.0->dataclasses-json<0.7,>=0.5.7->langchain-community->-r requirements.txt (line 2)) (1.0.0)\n",
      "Requirement already satisfied: humanfriendly>=9.1 in c:\\users\\kongl\\documents\\dsi314 progress 2\\dsi314\\lib\\site-packages (from coloredlogs->onnxruntime<1.20.0,>=1.17.0->fastembed->-r requirements.txt (line 4)) (10.0)\n",
      "Requirement already satisfied: MarkupSafe>=2.0 in c:\\users\\kongl\\documents\\dsi314 progress 2\\dsi314\\lib\\site-packages (from jinja2->torch>=1.11.0->sentence-transformers->-r requirements.txt (line 9)) (3.0.2)\n",
      "Requirement already satisfied: pycparser in c:\\users\\kongl\\documents\\dsi314 progress 2\\dsi314\\lib\\site-packages (from cffi>=1.12->cryptography>=3.1->unstructured-client->unstructured[md]->-r requirements.txt (line 17)) (2.22)\n",
      "Requirement already satisfied: pyreadline3 in c:\\users\\kongl\\documents\\dsi314 progress 2\\dsi314\\lib\\site-packages (from humanfriendly>=9.1->coloredlogs->onnxruntime<1.20.0,>=1.17.0->fastembed->-r requirements.txt (line 4)) (3.5.4)\n",
      "Requirement already satisfied: zipp>=3.20 in c:\\users\\kongl\\documents\\dsi314 progress 2\\dsi314\\lib\\site-packages (from importlib-metadata<=8.5.0,>=6.0->opentelemetry-api~=1.27->uptrace<2.0.0,>=1.22.0->chainlit->-r requirements.txt (line 7)) (3.21.0)\n",
      "Requirement already satisfied: wsproto in c:\\users\\kongl\\documents\\dsi314 progress 2\\dsi314\\lib\\site-packages (from simple-websocket>=0.10.0->python-engineio>=4.8.0->python-socketio<6.0.0,>=5.11.0->chainlit->-r requirements.txt (line 7)) (1.2.0)\n",
      "Note: you may need to restart the kernel to use updated packages.\n",
      "Requirement already satisfied: faiss-cpu in c:\\users\\kongl\\documents\\dsi314 progress 2\\dsi314\\lib\\site-packages (1.9.0.post1)\n",
      "Requirement already satisfied: numpy<3.0,>=1.25.0 in c:\\users\\kongl\\documents\\dsi314 progress 2\\dsi314\\lib\\site-packages (from faiss-cpu) (1.26.4)\n",
      "Requirement already satisfied: packaging in c:\\users\\kongl\\documents\\dsi314 progress 2\\dsi314\\lib\\site-packages (from faiss-cpu) (23.2)\n",
      "Note: you may need to restart the kernel to use updated packages.\n"
     ]
    }
   ],
   "source": [
    "%pip install -r requirements.txt\n",
    "%pip install faiss-cpu"
   ]
  },
  {
   "cell_type": "code",
   "execution_count": 2,
   "metadata": {
    "id": "kxNybeS65XL7"
   },
   "outputs": [],
   "source": [
    "# import gdown\n",
    "# from PyPDF2 import PdfReader, PdfWriter\n",
    "\n",
    "# file_id = '13nSk1WIIRIH4Uh8C6Nj9KJEJzJsMTDaW'\n",
    "# pdf_file_path = f'https://drive.google.com/uc?id={file_id}'\n",
    "# file_base_name = 'file'\n",
    "# gdown.download(pdf_file_path, f'{file_base_name}.pdf', quiet=False)\n",
    "# pdf = PdfReader('file.pdf')\n",
    "# pages = list(range(3, 18)) + list(range(39, 62))\n",
    "# pdfWriter = PdfWriter()\n",
    "\n",
    "# for page_num in pages:\n",
    "#     pdfWriter.add_page(pdf.pages[page_num])\n",
    "\n",
    "# with open(f'{file_base_name}_subset.pdf', 'wb') as f:\n",
    "#     pdfWriter.write(f)"
   ]
  },
  {
   "cell_type": "code",
   "execution_count": 3,
   "metadata": {
    "id": "wE4fTAQI0B_3"
   },
   "outputs": [],
   "source": [
    "import joblib\n",
    "import os\n",
    "import nest_asyncio\n",
    "from enum import Enum\n",
    "from typing import List, Tuple\n",
    "import nltk\n",
    "\n",
    "from llama_parse import LlamaParse\n",
    "from langchain.text_splitter import RecursiveCharacterTextSplitter\n",
    "from langchain_community.embeddings.fastembed import FastEmbedEmbeddings\n",
    "from langchain_community.document_loaders import UnstructuredMarkdownLoader\n",
    "from langchain.chains import ConversationalRetrievalChain\n",
    "from langchain.chains import RetrievalQA\n",
    "from langchain.chains import LLMChain\n",
    "from langchain.chat_models import ChatOpenAI\n",
    "from langchain.vectorstores import FAISS\n",
    "from langchain.embeddings import HuggingFaceEmbeddings\n",
    "\n",
    "import warnings\n",
    "import openai\n",
    "\n",
    "warnings.filterwarnings(\"ignore\")\n",
    "nest_asyncio.apply()"
   ]
  },
  {
   "cell_type": "code",
   "execution_count": 4,
   "metadata": {
    "id": "Sy0o_qQaxAcw"
   },
   "outputs": [],
   "source": [
    "llamaparse_api_key = 'llx-pNes5rGZru1FvO1nINQMrAJMEso0OEWutgy8ejbGntSxNPeq'\n",
    "\n",
    "client = openai.OpenAI(\n",
    "    api_key='sk-GqA4Uj6iZXaykbOzIlFGtmdJr6VqiX94NhhjPZaf81kylRzh',\n",
    "    base_url='https://api.opentyphoon.ai/v1'\n",
    ")"
   ]
  },
  {
   "cell_type": "code",
   "execution_count": 5,
   "metadata": {
    "id": "wK49Sdbu2pis"
   },
   "outputs": [],
   "source": [
    "DATA_DIR = \"./data\"\n",
    "PARSED_DATA_FILE = os.path.join(DATA_DIR, \"parsed_data.pkl\")\n",
    "PDF_FILE = r\"file_subset.pdf\"\n",
    "PARSING_INSTRUCTIONS = \"\"\"\n",
    "The provided document is a statistical report from the National Statistical Office of Thailand.\n",
    "It contains information about various industries, including employment, revenue.\n",
    "The report is in Thai language.\n",
    "The document is structured with tables and text sections.\n",
    "Try to extract information accurately and answer questions concisely.\n",
    "\"\"\"\n",
    "\n",
    "class Language(Enum):\n",
    "    THAI = \"th\"\n",
    "    ENGLISH = \"en\"\n",
    "\n",
    "def load_or_parse_data(data_file: str, pdf_file: str, parsing_instructions: str,\n",
    "                      llamaparse_api_key: str, language: Language = Language.THAI) -> List:\n",
    "    if os.path.exists(data_file):\n",
    "        return joblib.load(data_file)\n",
    "\n",
    "    try:\n",
    "        parser = LlamaParse(\n",
    "            api_key=llamaparse_api_key,\n",
    "            result_type=\"markdown\",\n",
    "            parsing_instruction=parsing_instructions,\n",
    "            max_timeout=5000,\n",
    "            language=language.value,\n",
    "        )\n",
    "        parsed_data = parser.load_data(pdf_file)\n",
    "\n",
    "        if not parsed_data:\n",
    "            return []\n",
    "\n",
    "    except Exception as e:\n",
    "        return []\n",
    "\n",
    "    joblib.dump(parsed_data, data_file)\n",
    "    return parsed_data"
   ]
  },
  {
   "cell_type": "code",
   "execution_count": 6,
   "metadata": {
    "id": "0YSWRG7GALXt"
   },
   "outputs": [
    {
     "name": "stderr",
     "output_type": "stream",
     "text": [
      "[nltk_data] Downloading package punkt to\n",
      "[nltk_data]     C:\\Users\\kongl\\AppData\\Roaming\\nltk_data...\n",
      "[nltk_data]   Package punkt is already up-to-date!\n",
      "[nltk_data] Downloading package averaged_perceptron_tagger_eng to\n",
      "[nltk_data]     C:\\Users\\kongl\\AppData\\Roaming\\nltk_data...\n",
      "[nltk_data]   Package averaged_perceptron_tagger_eng is already up-to-\n",
      "[nltk_data]       date!\n"
     ]
    },
    {
     "data": {
      "text/plain": [
       "True"
      ]
     },
     "execution_count": 6,
     "metadata": {},
     "output_type": "execute_result"
    }
   ],
   "source": [
    "nltk.download('punkt')\n",
    "nltk.download('averaged_perceptron_tagger_eng')"
   ]
  },
  {
   "cell_type": "code",
   "execution_count": null,
   "metadata": {
    "id": "pWg5S1BX_CMH"
   },
   "outputs": [],
   "source": [
    "def create_vector_database(llamaparse_api_key: str, pdf_file: str = PDF_FILE, data_file: str = PARSED_DATA_FILE) -> Tuple:\n",
    "    os.makedirs(DATA_DIR, exist_ok=True)\n",
    "    parsed_documents = load_or_parse_data(\n",
    "        data_file=data_file,\n",
    "        pdf_file=pdf_file,\n",
    "        parsing_instructions=PARSING_INSTRUCTIONS,\n",
    "        llamaparse_api_key=llamaparse_api_key\n",
    "    )\n",
    "\n",
    "    markdown_output = os.path.join(DATA_DIR, \"output.md\")\n",
    "    with open(markdown_output, 'w', encoding='utf-8') as f:\n",
    "        for doc in parsed_documents:\n",
    "            f.write(doc.text + '\\n')\n",
    "\n",
    "    loader = UnstructuredMarkdownLoader(markdown_output)\n",
    "    documents = loader.load()\n",
    "    text_splitter = RecursiveCharacterTextSplitter(chunk_size=512, chunk_overlap=128)\n",
    "    doc_chunks = text_splitter.split_documents(documents)\n",
    "    embed_model = HuggingFaceEmbeddings(model_name=\"BAAI/bge-base-en-v1.5\")\n",
    "    vector_store = FAISS.from_documents(documents=doc_chunks, embedding=embed_model)\n",
    "    faiss_index_path = os.path.join(DATA_DIR, \"faiss_index\")\n",
    "    vector_store.save_local(faiss_index_path)\n",
    "\n",
    "    return vector_store, embed_model\n"
   ]
  },
  {
   "cell_type": "code",
   "execution_count": 8,
   "metadata": {
    "id": "uq73LBpEA2L6"
   },
   "outputs": [],
   "source": [
    "from openai import OpenAI\n",
    "\n",
    "client = OpenAI(\n",
    "    api_key='sk-GqA4Uj6iZXaykbOzIlFGtmdJr6VqiX94NhhjPZaf81kylRzh',\n",
    "    base_url='https://api.opentyphoon.ai/v1'\n",
    ")\n",
    "\n",
    "def summarize_text(text, max_tokens=3000):\n",
    "    tokens = text.split()\n",
    "    return ' '.join(tokens[:max_tokens]) + '...' if len(tokens) > max_tokens else text\n",
    "\n",
    "def generate_response(prompt):\n",
    "    chat_completion = client.chat.completions.create(\n",
    "        model=\"typhoon-v1.5x-70b-instruct\",\n",
    "        messages=[{\"role\": \"user\", \"content\": prompt}]\n",
    "    )\n",
    "    return chat_completion.choices[0].message.content\n",
    "\n",
    "def retrieve_documents(query, retriever):\n",
    "    return retriever.get_relevant_documents(query)\n",
    "\n",
    "def ask_question(retriever, question):\n",
    "    retrieved_docs = retrieve_documents(question, retriever)\n",
    "    summarized_data = summarize_text(\"\\n\".join([doc.page_content for doc in retrieved_docs]), max_tokens=3000)\n",
    "    prompt = f\"Based on the following information about Pathum Thani development: {summarized_data}, answer this question: {question}\"\n",
    "    return generate_response(prompt)"
   ]
  },
  {
   "cell_type": "code",
   "execution_count": 9,
   "metadata": {
    "id": "bG5CKtXfQH8g"
   },
   "outputs": [],
   "source": [
    "llamaparse_api_key = \"llx-bMf1NAZ0TS6EgfsYfXAZADVHk9VHwx79fdoU6E3pwkzBFRqD\"\n",
    "vector_db, embedding_model = create_vector_database(llamaparse_api_key)"
   ]
  },
  {
   "cell_type": "code",
   "execution_count": 17,
   "metadata": {
    "id": "zxMq0OxMjT-t"
   },
   "outputs": [
    {
     "name": "stdout",
     "output_type": "stream",
     "text": [
      "ข้อมูลนี้เกี่ยวกับการพัฒนาในจังหวัดปทุมธานี ซึ่งรวมถึง:\n",
      "\n",
      "1. สัดส่วนของการผลิตต่างๆ เช่น อาหาร, เครื่องจักร, เคมีภัณฑ์, เสื้อผ้า, ยางและพลาสติก, เฟอร์นิเจอร์, ผลิตภัณฑ์จากอลูมิเนียม, การพิมพ์และการผลิตซ้ำสื่อบันทึก, ยานยนต์ และหมวดอื่นๆ\n",
      "2. ความต้องการของสถานประกอบการในการได้รับความช่วยเหลือจากหน่วยงานของรัฐ\n",
      "3. ประเภทของความช่วยเหลือที่สถานประกอบการต้องการมากที่สุด เช่น ลดต้นทุนการผลิต, ลดภาษี, ส่งเสริมการลงทุน, จัดหาแหล่งเงินกู้ดอกเบี้ยต่ำ, พักเงินต้นและดอกเบี้ย, และสนับสนุนเทคโนโลยีและเครื่องจักรทันสมัย\n"
     ]
    }
   ],
   "source": [
    "retriever = vector_db.as_retriever(search_kwargs={'k': 3})\n",
    "question = input(\"Enter your question: \")\n",
    "response = ask_question(retriever, question)\n",
    "\n",
    "print(response)"
   ]
  }
 ],
 "metadata": {
  "colab": {
   "private_outputs": true,
   "provenance": []
  },
  "kernelspec": {
   "display_name": "DSI314",
   "language": "python",
   "name": "python3"
  },
  "language_info": {
   "codemirror_mode": {
    "name": "ipython",
    "version": 3
   },
   "file_extension": ".py",
   "mimetype": "text/x-python",
   "name": "python",
   "nbconvert_exporter": "python",
   "pygments_lexer": "ipython3",
   "version": "3.11.9"
  }
 },
 "nbformat": 4,
 "nbformat_minor": 0
}
